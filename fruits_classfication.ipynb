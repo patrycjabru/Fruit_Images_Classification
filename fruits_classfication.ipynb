{
 "cells": [
  {
   "cell_type": "code",
   "execution_count": 3,
   "metadata": {
    "colab": {},
    "colab_type": "code",
    "id": "JXzm_SlvgV7v"
   },
   "outputs": [],
   "source": [
    "from tensorflow.keras.preprocessing.image import ImageDataGenerator\n",
    "from tensorflow.keras.models import Sequential \n",
    "from tensorflow.keras.layers import Dense, Conv2D, Flatten, MaxPooling2D, Dropout"
   ]
  },
  {
   "cell_type": "code",
   "execution_count": 7,
   "metadata": {
    "colab": {
     "base_uri": "https://localhost:8080/",
     "height": 50
    },
    "colab_type": "code",
    "id": "lKGl5qtofaZF",
    "outputId": "15bdbfbc-cabc-4cf2-f686-1811ad91e0d3"
   },
   "outputs": [
    {
     "name": "stdout",
     "output_type": "stream",
     "text": [
      "Found 48431 images belonging to 120 classes.\n",
      "Found 12067 images belonging to 120 classes.\n",
      "Found 20622 images belonging to 120 classes.\n"
     ]
    }
   ],
   "source": [
    "train_data_dir = './fruits/fruits-360_dataset/fruits-360-full/Training'\n",
    "test_data_dir = './fruits/fruits-360_dataset/fruits-360-full/Test'\n",
    "batch_size = 16\n",
    "img_height = 100\n",
    "img_width = 100\n",
    "input_shape = (img_height, img_width, 3)\n",
    "train_datagen = ImageDataGenerator(\n",
    "    validation_split = 0.2) \n",
    "test_datagen = ImageDataGenerator()\n",
    "\n",
    "train_generator = train_datagen.flow_from_directory(\n",
    "    train_data_dir, \n",
    "    batch_size = batch_size, \n",
    "    target_size = (img_height,img_width),\n",
    "    class_mode ='categorical',\n",
    "    shuffle = True,\n",
    "    subset = 'training') \n",
    "\n",
    "validation_generator = train_datagen.flow_from_directory(\n",
    "    train_data_dir,\n",
    "    target_size = (img_height, img_width),\n",
    "    batch_size = batch_size,\n",
    "    class_mode = 'categorical',\n",
    "    shuffle = True,\n",
    "    subset = 'validation')\n",
    "\n",
    "test_generator = test_datagen.flow_from_directory(\n",
    "    test_data_dir, \n",
    "    batch_size = batch_size, \n",
    "    target_size = (img_height,img_width),\n",
    "    class_mode ='categorical',\n",
    "    shuffle = True) "
   ]
  },
  {
   "cell_type": "code",
   "execution_count": 5,
   "metadata": {
    "colab": {
     "base_uri": "https://localhost:8080/",
     "height": 470
    },
    "colab_type": "code",
    "id": "0kjCRdkkg3t5",
    "outputId": "a69ad29d-aeca-45d9-965e-f9898e395f51"
   },
   "outputs": [
    {
     "name": "stdout",
     "output_type": "stream",
     "text": [
      "Model: \"sequential_1\"\n",
      "_________________________________________________________________\n",
      "Layer (type)                 Output Shape              Param #   \n",
      "=================================================================\n",
      "conv2d_4 (Conv2D)            (None, 100, 100, 128)     3584      \n",
      "_________________________________________________________________\n",
      "max_pooling2d_4 (MaxPooling2 (None, 50, 50, 128)       0         \n",
      "_________________________________________________________________\n",
      "conv2d_5 (Conv2D)            (None, 50, 50, 128)       147584    \n",
      "_________________________________________________________________\n",
      "max_pooling2d_5 (MaxPooling2 (None, 25, 25, 128)       0         \n",
      "_________________________________________________________________\n",
      "conv2d_6 (Conv2D)            (None, 25, 25, 192)       221376    \n",
      "_________________________________________________________________\n",
      "max_pooling2d_6 (MaxPooling2 (None, 12, 12, 192)       0         \n",
      "_________________________________________________________________\n",
      "conv2d_7 (Conv2D)            (None, 12, 12, 192)       331968    \n",
      "_________________________________________________________________\n",
      "dropout (Dropout)            (None, 12, 12, 192)       0         \n",
      "_________________________________________________________________\n",
      "max_pooling2d_7 (MaxPooling2 (None, 6, 6, 192)         0         \n",
      "_________________________________________________________________\n",
      "flatten_1 (Flatten)          (None, 6912)              0         \n",
      "_________________________________________________________________\n",
      "dense_1 (Dense)              (None, 120)               829560    \n",
      "=================================================================\n",
      "Total params: 1,534,072\n",
      "Trainable params: 1,534,072\n",
      "Non-trainable params: 0\n",
      "_________________________________________________________________\n",
      "WARNING:tensorflow:sample_weight modes were coerced from\n",
      "  ...\n",
      "    to  \n",
      "  ['...']\n",
      "WARNING:tensorflow:sample_weight modes were coerced from\n",
      "  ...\n",
      "    to  \n",
      "  ['...']\n",
      "Train for 3027 steps, validate for 755 steps\n",
      "Epoch 1/6\n",
      "3027/3027 [==============================] - 2132s 704ms/step - loss: 0.5115 - accuracy: 0.8814 - val_loss: 1.3730 - val_accuracy: 0.7332\n",
      "Epoch 2/6\n",
      "3027/3027 [==============================] - 2104s 695ms/step - loss: 0.1179 - accuracy: 0.9684 - val_loss: 0.8686 - val_accuracy: 0.8556\n",
      "Epoch 3/6\n",
      "3027/3027 [==============================] - 2139s 707ms/step - loss: 0.1078 - accuracy: 0.9750 - val_loss: 1.1535 - val_accuracy: 0.8772\n",
      "Epoch 4/6\n",
      "3027/3027 [==============================] - 2037s 673ms/step - loss: 0.0804 - accuracy: 0.9835 - val_loss: 1.0236 - val_accuracy: 0.8702\n",
      "Epoch 5/6\n",
      "3027/3027 [==============================] - 2071s 684ms/step - loss: 0.1019 - accuracy: 0.9817 - val_loss: 1.1583 - val_accuracy: 0.9083\n",
      "Epoch 6/6\n",
      "3027/3027 [==============================] - 2249s 743ms/step - loss: 0.0983 - accuracy: 0.9853 - val_loss: 1.5539 - val_accuracy: 0.8962\n"
     ]
    },
    {
     "data": {
      "text/plain": [
       "<tensorflow.python.keras.callbacks.History at 0x2a812af808>"
      ]
     },
     "execution_count": 5,
     "metadata": {},
     "output_type": "execute_result"
    }
   ],
   "source": [
    "epochs = 6\n",
    "model = Sequential() \n",
    "model.add(Conv2D(128, (3, 3), input_shape=input_shape, padding = \"same\", activation='relu'))\n",
    "model.add(MaxPooling2D(pool_size = (2, 2)))\n",
    "\n",
    "model.add(Conv2D(128, (3, 3), input_shape=input_shape, padding = \"same\", activation='relu'))\n",
    "model.add(MaxPooling2D(pool_size = (2, 2)))\n",
    "\n",
    "model.add(Conv2D(192, (3, 3), input_shape=input_shape, padding = \"same\", activation='relu'))\n",
    "model.add(MaxPooling2D(pool_size = (2, 2)))\n",
    "\n",
    "model.add(Conv2D(192, (3, 3), input_shape=input_shape, padding = \"same\", activation='relu'))\n",
    "model.add(Dropout(0.2))\n",
    "model.add(MaxPooling2D(pool_size = (2, 2)))\n",
    "\n",
    "model.add(Flatten())\n",
    "model.add(Dense(120, activation = \"softmax\"))\n",
    "\n",
    "model.compile(optimizer = 'adam', loss='categorical_crossentropy',metrics =['accuracy'])\n",
    "model.summary()\n",
    "model.fit(train_generator, epochs = epochs, validation_data = validation_generator)"
   ]
  },
  {
   "cell_type": "code",
   "execution_count": 6,
   "metadata": {
    "colab": {
     "base_uri": "https://localhost:8080/",
     "height": 441
    },
    "colab_type": "code",
    "id": "l7fpBRwZ3XTq",
    "outputId": "b56eb05c-9293-4e94-e4bc-4c810c581bf3"
   },
   "outputs": [
    {
     "name": "stdout",
     "output_type": "stream",
     "text": [
      "WARNING:tensorflow:sample_weight modes were coerced from\n",
      "  ...\n",
      "    to  \n",
      "  ['...']\n",
      "1289/1289 [==============================] - 251s 195ms/step - loss: 0.9825 - accuracy: 0.9304\n"
     ]
    },
    {
     "data": {
      "text/plain": [
       "[0.9824651404422002, 0.9303656]"
      ]
     },
     "execution_count": 6,
     "metadata": {},
     "output_type": "execute_result"
    }
   ],
   "source": [
    "model.evaluate(test_generator)"
   ]
  },
  {
   "cell_type": "code",
   "execution_count": null,
   "metadata": {},
   "outputs": [],
   "source": []
  }
 ],
 "metadata": {
  "colab": {
   "collapsed_sections": [],
   "name": "fruits classfication.ipynb",
   "provenance": []
  },
  "kernelspec": {
   "display_name": "Python 3",
   "language": "python",
   "name": "python3"
  },
  "language_info": {
   "codemirror_mode": {
    "name": "ipython",
    "version": 3
   },
   "file_extension": ".py",
   "mimetype": "text/x-python",
   "name": "python",
   "nbconvert_exporter": "python",
   "pygments_lexer": "ipython3",
   "version": "3.7.4"
  }
 },
 "nbformat": 4,
 "nbformat_minor": 1
}
